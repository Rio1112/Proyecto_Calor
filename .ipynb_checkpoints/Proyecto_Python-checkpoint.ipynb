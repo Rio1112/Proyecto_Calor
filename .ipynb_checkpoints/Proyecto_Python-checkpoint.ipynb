{
 "cells": [
  {
   "cell_type": "markdown",
   "id": "15ab66e9-251f-41b9-b629-ba97f6cc73fa",
   "metadata": {},
   "source": [
    "# Proyecto ecuacion de calor en Python\n",
    "Utilizando el metodo de diferencias finitas para resolver la ecuacion en dos dimensiones espaciales."
   ]
  },
  {
   "cell_type": "code",
   "execution_count": 6,
   "id": "cf48af68-163b-495d-92f0-865ee2ba9972",
   "metadata": {},
   "outputs": [],
   "source": [
    "import numpy as np\n",
    "\n",
    "def fcts_calor(Ti, Td, Tar, Tab, Tp, kappa, L, a, M, N, h, t_fin):\n",
    "    T = np.zeros((M+1, N+1), dtype = float)\n",
    "    #condiciones iniciales\n",
    "    T[:, 0] = Ti\n",
    "    T[:, N] = Td\n",
    "    T[0, :] = Tar\n",
    "    T[M, :] = Tab\n",
    "    T[1:M, 1:N] = Tp\n",
    "    \n",
    "    #arreglo para hacer las operaciones con FCTS\n",
    "    Tk = np.zeros((M+1, N+1), dtype = float)\n",
    "    Tk[0:M+1, 0] = Ti\n",
    "    Tk[0:M+1, N] = Td\n",
    "    Tk[0, 0:N+1] = Tar\n",
    "    Tk[M, 0:N+1] = Tab\n",
    "\n",
    "    #Los otros parametros\n",
    "    t = 0.0\n",
    "    dy= a/N  #Particiones del ancho\n",
    "    dx = L/M  #Partciones del largo\n",
    "    d1 = dy/dx  #dy/dx que es parte de la formula\n",
    "    d2 = dx/dy  #dx/dy que es parte de la formula\n",
    "    Fo = (kappa*t_fin)/(dy*dx)  #numero de Fourier\n",
    "\n",
    "    #Aqui se implementa el FCTS\n",
    "    while t < t_fin:\n",
    "        for j in range(1,N):\n",
    "            for i in range(1,M):\n",
    "                Tk[i,j] = Fo*(d1*(T[i-1,j] + T[i+1,j] - 2*T[i,j]) + d2*(T[i,j+1] + T[i,j-1] - 2*T[i,j])) + T[i,j]\n",
    "                \n",
    "        T = Tk\n",
    "        t += h\n",
    "    return T\n",
    "        "
   ]
  },
  {
   "cell_type": "markdown",
   "id": "caa1dc0e-9539-4c64-8c71-126a6ba4c710",
   "metadata": {},
   "source": []
  },
  {
   "cell_type": "code",
   "execution_count": 8,
   "id": "448bc68d-a1f4-4c9a-a4ba-e2b3446c9eb4",
   "metadata": {},
   "outputs": [],
   "source": [
    "valores = fcts_calor(100, 0, 0, 120, 10, 22.8e-6, 10, 8, 50, 40, 1e-4, 30)"
   ]
  },
  {
   "cell_type": "code",
   "execution_count": 10,
   "id": "183e37d1-91b3-44ff-9bd6-356f53ff15da",
   "metadata": {},
   "outputs": [
    {
     "data": {
      "image/png": "[encoded data removed]",
      "text/plain": [
       "<Figure size 640x480 with 1 Axes>"
      ]
     },
     "metadata": {},
     "output_type": "display_data"
    }
   ],
   "source": [
    "import matplotlib.pyplot as plt\n",
    "import matplotlib.cm as cm\n",
    "\n",
    "plt.imshow(valores)\n",
    "plt.show()"
   ]
  },
  {
   "cell_type": "code",
   "execution_count": null,
   "id": "dbf8eebe-cb85-42c6-a628-5d59c4a3e80f",
   "metadata": {},
   "outputs": [],
   "source": []
  }
 ],
 "metadata": {
  "kernelspec": {
   "display_name": "Python 3 (ipykernel)",
   "language": "python",
   "name": "python3"
  },
  "language_info": {
   "codemirror_mode": {
    "name": "ipython",
    "version": 3
   },
   "file_extension": ".py",
   "mimetype": "text/x-python",
   "name": "python",
   "nbconvert_exporter": "python",
   "pygments_lexer": "ipython3",
   "version": "3.10.12"
  }
 },
 "nbformat": 4,
 "nbformat_minor": 5
}
