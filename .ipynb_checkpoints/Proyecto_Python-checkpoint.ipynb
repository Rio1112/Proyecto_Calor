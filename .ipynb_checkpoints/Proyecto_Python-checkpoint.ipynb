{
 "cells": [
  {
   "cell_type": "markdown",
   "id": "15ab66e9-251f-41b9-b629-ba97f6cc73fa",
   "metadata": {},
   "source": [
    "# Proyecto ecuacion de calor en Python\n",
    "Utilizando el metodo de diferencias finitas para resolver la ecuacion en dos dimensiones espaciales."
   ]
  },
  {
   "cell_type": "code",
   "execution_count": 25,
   "id": "cf48af68-163b-495d-92f0-865ee2ba9972",
   "metadata": {},
   "outputs": [],
   "source": [
    "import numpy as np\n",
    "\n",
    "def fcts_calor(Ti, Td, Tar, Tab, Tp, kappa, L, a, M, N, h, t_fin):\n",
    "    T = np.zeros((M+1, N+1), dtype = float)\n",
    "    #condiciones iniciales\n",
    "    T[0:M+1, 0] = Ti\n",
    "    T[0:M+1, N] = Td\n",
    "    T[0, 0:N+1] = Tar\n",
    "    T[M, 0:N+1] = Tab\n",
    "    T[1:M, 1:N] = Tp\n",
    "    \n",
    "    #arreglo para hacer las operaciones con FCTS\n",
    "    Tk = np.zeros((M+1, N+1), dtype = float)\n",
    "    Tk[0:M+1, 0] = Ti\n",
    "    Tk[0:M+1, N] = Td\n",
    "    Tk[0, 0:N+1] = Tar\n",
    "    Tk[M, 0:N+1] = Tab\n",
    "\n",
    "    #Los otros parametros\n",
    "    t = 0.0\n",
    "    dy= a/N  #Particiones del ancho\n",
    "    dx = L/M  #Partciones del largo\n",
    "    d1 = dy/dx  #dy/dx que es parte de la formula\n",
    "    d2 = dx/dy  #dx/dy que es parte de la formula\n",
    "    ites = 0\n",
    "    indi = 0\n",
    "    Fo = (kappa*t_fin)/(dy*dx)\n",
    "\n",
    "    Tk = np.copy(T)\n",
    "\n",
    "    #Aqui se implementa el FCTS\n",
    "    while t < t_fin:\n",
    "        for j in range(1,N):\n",
    "            for i in range(1,M):\n",
    "                value = Fo*(d1*(T[i-1,j] + T[i+1,j] - 2*T[i,j]) + d2*(T[i,j+1] + T[i,j-1] - 2*T[i,j])) + T[i,j]\n",
    "                Tk[i,j] = value\n",
    "\n",
    "        T = Tk\n",
    "        t += h\n",
    "    return T\n",
    "        "
   ]
  },
  {
   "cell_type": "markdown",
   "id": "caa1dc0e-9539-4c64-8c71-126a6ba4c710",
   "metadata": {},
   "source": []
  },
  {
   "cell_type": "code",
   "execution_count": 26,
   "id": "448bc68d-a1f4-4c9a-a4ba-e2b3446c9eb4",
   "metadata": {},
   "outputs": [
    {
     "name": "stderr",
     "output_type": "stream",
     "text": [
      "/tmp/ipykernel_7991/966880228.py:35: RuntimeWarning: overflow encountered in scalar multiply\n",
      "  value = Fo*(d1*(T[i-1,j] + T[i+1,j] - 2*T[i,j]) + d2*(T[i,j+1] + T[i,j-1] - 2*T[i,j])) + T[i,j]\n",
      "/tmp/ipykernel_7991/966880228.py:35: RuntimeWarning: overflow encountered in scalar add\n",
      "  value = Fo*(d1*(T[i-1,j] + T[i+1,j] - 2*T[i,j]) + d2*(T[i,j+1] + T[i,j-1] - 2*T[i,j])) + T[i,j]\n",
      "/tmp/ipykernel_7991/966880228.py:35: RuntimeWarning: invalid value encountered in scalar subtract\n",
      "  value = Fo*(d1*(T[i-1,j] + T[i+1,j] - 2*T[i,j]) + d2*(T[i,j+1] + T[i,j-1] - 2*T[i,j])) + T[i,j]\n"
     ]
    },
    {
     "ename": "KeyboardInterrupt",
     "evalue": "",
     "output_type": "error",
     "traceback": [
      "\u001b[0;31m---------------------------------------------------------------------------\u001b[0m",
      "\u001b[0;31mKeyboardInterrupt\u001b[0m                         Traceback (most recent call last)",
      "Cell \u001b[0;32mIn[26], line 1\u001b[0m\n\u001b[0;32m----> 1\u001b[0m valores \u001b[38;5;241m=\u001b[39m \u001b[43mfcts_calor\u001b[49m\u001b[43m(\u001b[49m\u001b[38;5;241;43m100\u001b[39;49m\u001b[43m,\u001b[49m\u001b[43m \u001b[49m\u001b[38;5;241;43m0\u001b[39;49m\u001b[43m,\u001b[49m\u001b[43m \u001b[49m\u001b[38;5;241;43m0\u001b[39;49m\u001b[43m,\u001b[49m\u001b[43m \u001b[49m\u001b[38;5;241;43m120\u001b[39;49m\u001b[43m,\u001b[49m\u001b[43m \u001b[49m\u001b[38;5;241;43m10\u001b[39;49m\u001b[43m,\u001b[49m\u001b[43m \u001b[49m\u001b[38;5;241;43m22.8\u001b[39;49m\u001b[43m,\u001b[49m\u001b[43m \u001b[49m\u001b[38;5;241;43m10\u001b[39;49m\u001b[43m,\u001b[49m\u001b[43m \u001b[49m\u001b[38;5;241;43m8\u001b[39;49m\u001b[43m,\u001b[49m\u001b[43m \u001b[49m\u001b[38;5;241;43m100\u001b[39;49m\u001b[43m,\u001b[49m\u001b[43m \u001b[49m\u001b[38;5;241;43m80\u001b[39;49m\u001b[43m,\u001b[49m\u001b[43m \u001b[49m\u001b[38;5;241;43m1e-4\u001b[39;49m\u001b[43m,\u001b[49m\u001b[43m \u001b[49m\u001b[38;5;241;43m180\u001b[39;49m\u001b[43m)\u001b[49m\n",
      "Cell \u001b[0;32mIn[25], line 36\u001b[0m, in \u001b[0;36mfcts_calor\u001b[0;34m(Ti, Td, Tar, Tab, Tp, kappa, L, a, M, N, h, t_fin)\u001b[0m\n\u001b[1;32m     34\u001b[0m     \u001b[38;5;28;01mfor\u001b[39;00m i \u001b[38;5;129;01min\u001b[39;00m \u001b[38;5;28mrange\u001b[39m(\u001b[38;5;241m1\u001b[39m,M):\n\u001b[1;32m     35\u001b[0m         value \u001b[38;5;241m=\u001b[39m Fo\u001b[38;5;241m*\u001b[39m(d1\u001b[38;5;241m*\u001b[39m(T[i\u001b[38;5;241m-\u001b[39m\u001b[38;5;241m1\u001b[39m,j] \u001b[38;5;241m+\u001b[39m T[i\u001b[38;5;241m+\u001b[39m\u001b[38;5;241m1\u001b[39m,j] \u001b[38;5;241m-\u001b[39m \u001b[38;5;241m2\u001b[39m\u001b[38;5;241m*\u001b[39mT[i,j]) \u001b[38;5;241m+\u001b[39m d2\u001b[38;5;241m*\u001b[39m(T[i,j\u001b[38;5;241m+\u001b[39m\u001b[38;5;241m1\u001b[39m] \u001b[38;5;241m+\u001b[39m T[i,j\u001b[38;5;241m-\u001b[39m\u001b[38;5;241m1\u001b[39m] \u001b[38;5;241m-\u001b[39m \u001b[38;5;241m2\u001b[39m\u001b[38;5;241m*\u001b[39mT[i,j])) \u001b[38;5;241m+\u001b[39m T[i,j]\n\u001b[0;32m---> 36\u001b[0m         Tk[i,j] \u001b[38;5;241m=\u001b[39m value\n\u001b[1;32m     38\u001b[0m T \u001b[38;5;241m=\u001b[39m Tk\n\u001b[1;32m     39\u001b[0m t \u001b[38;5;241m+\u001b[39m\u001b[38;5;241m=\u001b[39m h\n",
      "\u001b[0;31mKeyboardInterrupt\u001b[0m: "
     ]
    }
   ],
   "source": [
    "valores = fcts_calor(100, 0, 0, 120, 10, 22.8, 10, 8, 100, 80, 1e-4, 180)"
   ]
  },
  {
   "cell_type": "code",
   "execution_count": 20,
   "id": "183e37d1-91b3-44ff-9bd6-356f53ff15da",
   "metadata": {},
   "outputs": [
    {
     "ename": "NameError",
     "evalue": "name 'valores' is not defined",
     "output_type": "error",
     "traceback": [
      "\u001b[0;31m---------------------------------------------------------------------------\u001b[0m",
      "\u001b[0;31mNameError\u001b[0m                                 Traceback (most recent call last)",
      "Cell \u001b[0;32mIn[20], line 4\u001b[0m\n\u001b[1;32m      1\u001b[0m \u001b[38;5;28;01mimport\u001b[39;00m \u001b[38;5;21;01mmatplotlib\u001b[39;00m\u001b[38;5;21;01m.\u001b[39;00m\u001b[38;5;21;01mpyplot\u001b[39;00m \u001b[38;5;28;01mas\u001b[39;00m \u001b[38;5;21;01mplt\u001b[39;00m\n\u001b[1;32m      2\u001b[0m \u001b[38;5;28;01mimport\u001b[39;00m \u001b[38;5;21;01mmatplotlib\u001b[39;00m\u001b[38;5;21;01m.\u001b[39;00m\u001b[38;5;21;01mcm\u001b[39;00m \u001b[38;5;28;01mas\u001b[39;00m \u001b[38;5;21;01mcm\u001b[39;00m\n\u001b[0;32m----> 4\u001b[0m plt\u001b[38;5;241m.\u001b[39mimshow(\u001b[43mvalores\u001b[49m)\n\u001b[1;32m      5\u001b[0m plt\u001b[38;5;241m.\u001b[39mpurple()\n\u001b[1;32m      6\u001b[0m plt\u001b[38;5;241m.\u001b[39mshow()\n",
      "\u001b[0;31mNameError\u001b[0m: name 'valores' is not defined"
     ]
    }
   ],
   "source": [
    "import matplotlib.pyplot as plt\n",
    "import matplotlib.cm as cm\n",
    "\n",
    "plt.imshow(valores)\n",
    "plt.purple()\n",
    "plt.show()"
   ]
  },
  {
   "cell_type": "code",
   "execution_count": null,
   "id": "dbf8eebe-cb85-42c6-a628-5d59c4a3e80f",
   "metadata": {},
   "outputs": [],
   "source": []
  }
 ],
 "metadata": {
  "kernelspec": {
   "display_name": "Python 3 (ipykernel)",
   "language": "python",
   "name": "python3"
  },
  "language_info": {
   "codemirror_mode": {
    "name": "ipython",
    "version": 3
   },
   "file_extension": ".py",
   "mimetype": "text/x-python",
   "name": "python",
   "nbconvert_exporter": "python",
   "pygments_lexer": "ipython3",
   "version": "3.10.12"
  }
 },
 "nbformat": 4,
 "nbformat_minor": 5
}
