{
 "cells": [
  {
   "cell_type": "markdown",
   "id": "e1735f77-a854-495e-b535-bce6b9fde0d4",
   "metadata": {},
   "source": [
    "# Pruebas "
   ]
  },
  {
   "cell_type": "code",
   "execution_count": 1,
   "id": "e210c25c-da96-4326-9230-6ec0fc61d805",
   "metadata": {},
   "outputs": [
    {
     "data": {
      "image/png": "[encoded data removed]",
      "text/plain": [
       "<Figure size 640x480 with 2 Axes>"
      ]
     },
     "metadata": {},
     "output_type": "display_data"
    }
   ],
   "source": [
    "import numpy as np\n",
    "import matplotlib.pyplot as plt\n",
    "\n",
    "def solve_heat_equation_2d(Lx, Ly, Px, Py, alpha, dt, N, initial_condition):\n",
    "    \"\"\"\n",
    "    Resuelve la ecuación de calor en 2D usando el método de diferencias finitas explícito.\n",
    "\n",
    "    Parámetros:\n",
    "    Lx, Ly: Tamaño del dominio en las direcciones x e y.\n",
    "    Px, Py: Número de puntos en cada dirección.\n",
    "    alpha: Difusividad térmica.\n",
    "    dt: Paso de tiempo.\n",
    "    N: Número de pasos de tiempo.\n",
    "    initial_condition: Función que define la condición inicial en el dominio.\n",
    "\n",
    "    Retorna:\n",
    "    u: Matriz de temperatura después de nt pasos de tiempo.\n",
    "    \"\"\"\n",
    "    dx = Lx / (Nx - 1)\n",
    "    dy = Ly / (Ny - 1)\n",
    "\n",
    "    # Inicialización del dominio de temperatura\n",
    "    u = np.zeros((Px, Py))\n",
    "\n",
    "    # Aplicar la condición inicial\n",
    "    for i in range(Px):\n",
    "        for j in range(Py):\n",
    "            u[i, j] = initial_condition(i * dx, j * dy)\n",
    "\n",
    "    # Bucle en el tiempo\n",
    "    for n in range(N):\n",
    "        u_new = u.copy()\n",
    "        for i in range(1, Px-1):\n",
    "            for j in range(1, Py-1):\n",
    "                u_new[i, j] = (u[i, j] +\n",
    "                               alpha * dt / dx**2 * (u[i+1, j] - 2*u[i, j] + u[i-1, j]) +\n",
    "                               alpha * dt / dy**2 * (u[i, j+1] - 2*u[i, j] + u[i, j-1]))\n",
    "        u = u_new.copy()\n",
    "\n",
    "    return u\n",
    "\n",
    "def plot_heat_distribution(u, Lx, Ly):\n",
    "    \"\"\"\n",
    "    Dibuja la distribución de temperatura.\n",
    "\n",
    "    Parámetros:\n",
    "    u: Matriz de temperatura.\n",
    "    Lx, Ly: Tamaño del dominio en las direcciones x e y.\n",
    "    \"\"\"\n",
    "    plt.imshow(u, extent=[0, Lx, 0, Ly], origin='lower', cmap='hot')\n",
    "    plt.colorbar()\n",
    "    plt.title('Distribución de Temperatura')\n",
    "    plt.show()\n",
    "\n",
    "# Definición de la condición inicial\n",
    "def initial_condition(x, y):\n",
    "    if 0.4 <= x <= 0.6 and 0.4 <= y <= 0.6:\n",
    "        return 100\n",
    "    else:\n",
    "        return 20\n",
    "\n",
    "\n",
    "# Parámetros\n",
    "Lx, Ly = 1.0, 1.0\n",
    "Nx, Ny = 50, 50\n",
    "alpha = 22.8e-6\n",
    "dt = 1\n",
    "N = 120\n",
    "\n",
    "# Resolver la ecuación de calor\n",
    "u = solve_heat_equation_2d(Lx, Ly, Nx, Ny, alpha, dt, N, initial_condition)\n",
    "\n",
    "# Visualizar la distribución de temperatura\n",
    "plot_heat_distribution(u, Lx, Ly)\n"
   ]
  },
  {
   "cell_type": "code",
   "execution_count": null,
   "id": "4f2cfc44-af61-4c32-8a56-908cbe847f83",
   "metadata": {},
   "outputs": [],
   "source": []
  }
 ],
 "metadata": {
  "kernelspec": {
   "display_name": "Python 3 (ipykernel)",
   "language": "python",
   "name": "python3"
  },
  "language_info": {
   "codemirror_mode": {
    "name": "ipython",
    "version": 3
   },
   "file_extension": ".py",
   "mimetype": "text/x-python",
   "name": "python",
   "nbconvert_exporter": "python",
   "pygments_lexer": "ipython3",
   "version": "3.10.12"
  }
 },
 "nbformat": 4,
 "nbformat_minor": 5
}
