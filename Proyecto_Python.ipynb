{
 "cells": [
  {
   "cell_type": "markdown",
   "id": "15ab66e9-251f-41b9-b629-ba97f6cc73fa",
   "metadata": {},
   "source": [
    "# Proyecto ecuacion de calor en Python\n",
    "Utilizando el metodo de diferencias finitas para resolver la ecuacion en dos dimensiones espaciales."
   ]
  },
  {
   "cell_type": "code",
   "execution_count": null,
   "id": "cf48af68-163b-495d-92f0-865ee2ba9972",
   "metadata": {},
   "outputs": [],
   "source": [
    "import numpy as np\n",
    "\n",
    "def fcts_calor"
   ]
  }
 ],
 "metadata": {
  "kernelspec": {
   "display_name": "Python 3 (ipykernel)",
   "language": "python",
   "name": "python3"
  },
  "language_info": {
   "codemirror_mode": {
    "name": "ipython",
    "version": 3
   },
   "file_extension": ".py",
   "mimetype": "text/x-python",
   "name": "python",
   "nbconvert_exporter": "python",
   "pygments_lexer": "ipython3",
   "version": "3.10.12"
  }
 },
 "nbformat": 4,
 "nbformat_minor": 5
}
